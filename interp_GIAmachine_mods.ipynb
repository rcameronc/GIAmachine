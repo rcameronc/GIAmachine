{
 "cells": [
  {
   "cell_type": "code",
   "execution_count": 42,
   "id": "ce9f1374-73a3-4bf3-83e7-5d99c42c9223",
   "metadata": {
    "lines_to_next_cell": 2
   },
   "outputs": [],
   "source": [
    "import xarray as xr\n",
    "import numpy as np\n",
    "import glob\n",
    "from scipy.io import loadmat\n",
    "import h5py\n",
    "import os\n",
    "from matplotlib import pyplot as plt\n",
    "import pandas as pd\n",
    "\n",
    "from utils import *"
   ]
  },
  {
   "cell_type": "code",
   "execution_count": 4,
   "id": "d443003f-8339-439a-882a-b1ca7f85a901",
   "metadata": {},
   "outputs": [
    {
     "name": "stdout",
     "output_type": "stream",
     "text": [
      "processing NHIS_read_data_sample.m\n",
      "processing readme.rtf\n",
      "processing fully_coupled.nc\n"
     ]
    }
   ],
   "source": [
    "paths = glob.glob('raw_models/*/*')\n",
    "for path in paths:\n",
    "\n",
    "    \n",
    "    filename = path.split('/')[-1]\n",
    "    home_dir = '/'.join(path.split('/')[:-1]) + '/'\n",
    "    save_dir = home_dir.replace('raw', 'processed')\n",
    "    save_name = '_'.join(path.split('/')[1:]).split('.')[:-1][0]\n",
    "\n",
    "    save_path = save_dir + save_name\n",
    "\n",
    "    if not os.path.exists(save_dir):\n",
    "        print('making', save_dir)\n",
    "        os.makedirs(save_dir)\n",
    "\n",
    "    if os.path.isfile(save_path):\n",
    "        print(filename, \"already exists\")\n",
    "\n",
    "    else:\n",
    "        print(\"processing\", filename)\n",
    "        \n",
    "        if '.nc' in filename:\n",
    "            \n",
    "            f = xr.open_mfdataset(path)\n",
    "            if 'austermann2021' in path:\n",
    "                load_austermann2021(f, save_path)\n",
    "\n",
    "            if 'han' in path:\n",
    "                continue\n",
    "            if 'dyer2021' in path:\n",
    "                load_dyer2021(f, save_path)\n",
    "                \n",
    "    \n",
    "        if '.mat' in filename:\n",
    "            try:\n",
    "                f = loadmat(path)\n",
    "            except:\n",
    "                with h5py.File(path, 'r') as f:\n",
    "    \n",
    "                    if 'austermann2022' in path:\n",
    "                        load_austermann2022(f, save_path)\n",
    "                       \n"
   ]
  },
  {
   "cell_type": "code",
   "execution_count": 53,
   "id": "edc7f2a2-4336-45a6-8f2b-64205b51e4f8",
   "metadata": {},
   "outputs": [
    {
     "data": {
      "text/plain": [
       "(256, 512, 599)"
      ]
     },
     "execution_count": 53,
     "metadata": {},
     "output_type": "execute_result"
    }
   ],
   "source": [
    "p = '/Volumes/Seagate Hub/whoi/GIAmachine/raw_models/dyer2021/out.l48C.ump3.lm3_Colleoni_Wael_S.mat'\n",
    "f = loadmat(p)\n",
    "lon = f['lon_out']\n",
    "lat = f['lat_out']\n",
    "age = f['ice_time_new']\n",
    "RSL = f['RSL']\n",
    "RSL.shape\n",
    "# age[0], age[-1]"
   ]
  },
  {
   "cell_type": "code",
   "execution_count": 54,
   "id": "85df0fbf-f47c-4341-891b-91d54a4979d5",
   "metadata": {},
   "outputs": [],
   "source": []
  },
  {
   "cell_type": "code",
   "execution_count": 11,
   "id": "da6485ac-3a0b-4cfc-9822-9a7ab299c1fa",
   "metadata": {
    "lines_to_next_cell": 2
   },
   "outputs": [
    {
     "name": "stdout",
     "output_type": "stream",
     "text": [
      "<KeysViewHDF5 ['ESL', 'RSL', 'ice_corrected', 'ice_time_new', 'lat_out', 'lon_out', 'topo']>\n"
     ]
    },
    {
     "data": {
      "text/plain": [
       "<Closed HDF5 file>"
      ]
     },
     "execution_count": 11,
     "metadata": {},
     "output_type": "execute_result"
    }
   ],
   "source": [
    "with h5py.File(path, 'r') as f:\n",
    "    print(f.keys())"
   ]
  }
 ],
 "metadata": {
  "kernelspec": {
   "display_name": "Python 3 (ipykernel)",
   "language": "python",
   "name": "python3"
  },
  "language_info": {
   "codemirror_mode": {
    "name": "ipython",
    "version": 3
   },
   "file_extension": ".py",
   "mimetype": "text/x-python",
   "name": "python",
   "nbconvert_exporter": "python",
   "pygments_lexer": "ipython3",
   "version": "3.13.2"
  }
 },
 "nbformat": 4,
 "nbformat_minor": 5
}
